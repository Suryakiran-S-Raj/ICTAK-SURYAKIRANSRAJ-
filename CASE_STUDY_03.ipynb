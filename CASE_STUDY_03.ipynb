{
  "nbformat": 4,
  "nbformat_minor": 0,
  "metadata": {
    "colab": {
      "provenance": []
    },
    "kernelspec": {
      "name": "python3",
      "display_name": "Python 3"
    },
    "language_info": {
      "name": "python"
    }
  },
  "cells": [
    {
      "cell_type": "code",
      "execution_count": null,
      "metadata": {
        "id": "8t44aTBQwtzR",
        "colab": {
          "base_uri": "https://localhost:8080/"
        },
        "outputId": "3a29e8ce-4148-4a06-bd66-f0a135e18bf7"
      },
      "outputs": [
        {
          "output_type": "stream",
          "name": "stdout",
          "text": [
            "Mounted at /content/drive\n"
          ]
        }
      ],
      "source": [
        "from google.colab import drive\n",
        "drive.mount('/content/drive')"
      ]
    },
    {
      "cell_type": "code",
      "source": [
        "#file paths\n",
        "#/content/drive/MyDrive/ICTAK DATAS/vegetable vs fruits/train.zip\n",
        "#/content/drive/MyDrive/ICTAK DATAS/vegetable vs fruits/test.zip\n",
        "#/content/drive/MyDrive/ICTAK DATAS/vegetable vs fruits/validation.zip\n"
      ],
      "metadata": {
        "id": "lo-wnFLO1diW"
      },
      "execution_count": null,
      "outputs": []
    },
    {
      "cell_type": "code",
      "source": [
        "#extracting the zip files\n"
      ],
      "metadata": {
        "id": "Xh-qQb9V3wb-"
      },
      "execution_count": null,
      "outputs": []
    },
    {
      "cell_type": "code",
      "source": [
        "import zipfile\n",
        "import os\n",
        "\n",
        "# List of zip files and their extraction paths\n",
        "zip_files = [\n",
        "    (\"/content/drive/MyDrive/ICTAK DATAS/vegetable vs fruits/train.zip\", \"/content/train\"),\n",
        "    (\"/content/drive/MyDrive/ICTAK DATAS/vegetable vs fruits/test.zip\", \"/content/test\"),\n",
        "    (\"/content/drive/MyDrive/ICTAK DATAS/vegetable vs fruits/validation.zip\", \"/content/validation\"),\n",
        "]\n",
        "\n",
        "# Extract each ZIP file\n",
        "for zip_path, extract_path in zip_files:\n",
        "    print(f\"Processing: {zip_path}\")\n",
        "\n",
        "    # Ensure the extraction directory exists\n",
        "    os.makedirs(extract_path, exist_ok=True)\n",
        "\n",
        "    # Extract the ZIP file\n",
        "    with zipfile.ZipFile(zip_path, 'r') as zip_ref:\n",
        "        zip_ref.extractall(extract_path)\n",
        "\n",
        "    print(f\"Extracted to: {extract_path}\\n\")"
      ],
      "metadata": {
        "colab": {
          "base_uri": "https://localhost:8080/"
        },
        "id": "cnddXlVv2zuK",
        "outputId": "ef361a94-953e-4c4f-8c38-a08d610c9975"
      },
      "execution_count": null,
      "outputs": [
        {
          "output_type": "stream",
          "name": "stdout",
          "text": [
            "Processing: /content/drive/MyDrive/ICTAK DATAS/vegetable vs fruits/train.zip\n",
            "Extracted to: /content/train\n",
            "\n",
            "Processing: /content/drive/MyDrive/ICTAK DATAS/vegetable vs fruits/test.zip\n",
            "Extracted to: /content/test\n",
            "\n",
            "Processing: /content/drive/MyDrive/ICTAK DATAS/vegetable vs fruits/validation.zip\n",
            "Extracted to: /content/validation\n",
            "\n"
          ]
        }
      ]
    },
    {
      "cell_type": "markdown",
      "source": [
        "#VERIFYING THE EXTRACTION"
      ],
      "metadata": {
        "id": "-hMCm89kSWgK"
      }
    },
    {
      "cell_type": "code",
      "source": [
        "!ls /content/test\n"
      ],
      "metadata": {
        "colab": {
          "base_uri": "https://localhost:8080/"
        },
        "id": "IRyFwBCP352L",
        "outputId": "b933631d-2ae8-4d0a-ca9e-ec4d2d27a34e"
      },
      "execution_count": null,
      "outputs": [
        {
          "output_type": "stream",
          "name": "stdout",
          "text": [
            " apple\t        carrot\t\t garlic     lettuce   peas\t    spinach\n",
            " banana         cauliflower\t ginger     mango     pineapple     sweetcorn\n",
            " beetroot      'chilli pepper'\t grapes     onion     pomegranate   sweetpotato\n",
            "'bell pepper'   corn\t\t jalepeno   orange    potato\t    tomato\n",
            " cabbage        cucumber\t kiwi\t    paprika   raddish\t    turnip\n",
            " capsicum       eggplant\t lemon\t    pear     'soy beans'    watermelon\n"
          ]
        }
      ]
    },
    {
      "cell_type": "code",
      "source": [
        "!ls /content/train\n",
        "\n"
      ],
      "metadata": {
        "colab": {
          "base_uri": "https://localhost:8080/"
        },
        "id": "1UQhaMDv4A7K",
        "outputId": "95a2e093-6060-4c6c-e9f9-5335a6019d78"
      },
      "execution_count": null,
      "outputs": [
        {
          "output_type": "stream",
          "name": "stdout",
          "text": [
            " apple\t        carrot\t\t garlic     lettuce   peas\t    spinach\n",
            " banana         cauliflower\t ginger     mango     pineapple     sweetcorn\n",
            " beetroot      'chilli pepper'\t grapes     onion     pomegranate   sweetpotato\n",
            "'bell pepper'   corn\t\t jalepeno   orange    potato\t    tomato\n",
            " cabbage        cucumber\t kiwi\t    paprika   raddish\t    turnip\n",
            " capsicum       eggplant\t lemon\t    pear     'soy beans'    watermelon\n"
          ]
        }
      ]
    },
    {
      "cell_type": "code",
      "source": [
        "!ls /content/validation"
      ],
      "metadata": {
        "id": "Nc_xy_814GbF",
        "outputId": "bf83a261-1628-4f86-9c1c-d6e341d49741",
        "colab": {
          "base_uri": "https://localhost:8080/"
        }
      },
      "execution_count": null,
      "outputs": [
        {
          "output_type": "stream",
          "name": "stdout",
          "text": [
            " apple\t        carrot\t\t garlic     lettuce   peas\t    spinach\n",
            " banana         cauliflower\t ginger     mango     pineapple     sweetcorn\n",
            " beetroot      'chilli pepper'\t grapes     onion     pomegranate   sweetpotato\n",
            "'bell pepper'   corn\t\t jalepeno   orange    potato\t    tomato\n",
            " cabbage        cucumber\t kiwi\t    paprika   raddish\t    turnip\n",
            " capsicum       eggplant\t lemon\t    pear     'soy beans'    watermelon\n"
          ]
        }
      ]
    },
    {
      "cell_type": "markdown",
      "source": [
        "#CLASSIFYING TEST DATA"
      ],
      "metadata": {
        "id": "j2Og6KHQSjbv"
      }
    },
    {
      "cell_type": "code",
      "source": [
        "import shutil\n",
        "\n",
        "# Paths\n",
        "test_dir = \"/content/test\"\n",
        "structured_test_dir = \"/content/structured_test\"\n",
        "\n",
        "# Define fruits and vegetables categories (normalized to lowercase and stripped spaces)\n",
        "fruits = {fruit.lower().replace(\" \", \"\") for fruit in [\n",
        "    \"Banana\", \"Apple\", \"Pear\", \"Grapes\", \"Orange\", \"Kiwi\",\n",
        "    \"Watermelon\", \"Pomegranate\", \"Pineapple\", \"Mango\"\n",
        "]}\n",
        "vegetables = {vegetable.lower().replace(\" \", \"\") for vegetable in [\n",
        "    \"Cucumber\", \"Carrot\", \"Capsicum\", \"Onion\", \"Potato\", \"Lemon\",\n",
        "    \"Tomato\", \"Raddish\", \"Beetroot\", \"Cabbage\", \"Lettuce\", \"Spinach\",\n",
        "    \"Soy beans\", \"Cauliflower\", \"Bell Pepper\", \"Chilli pepper\",\n",
        "    \"Turnip\", \"Corn\", \"Sweetcorn\", \"Sweet Potato\", \"Paprika\",\n",
        "    \"Jalepeno\", \"Ginger\", \"Garlic\", \"Peas\", \"Eggplant\"\n",
        "]}\n",
        "\n",
        "# Create destination folders\n",
        "fruits_dir = os.path.join(structured_test_dir, \"Fruits\")\n",
        "vegetables_dir = os.path.join(structured_test_dir, \"Vegetables\")\n",
        "os.makedirs(fruits_dir, exist_ok=True)\n",
        "os.makedirs(vegetables_dir, exist_ok=True)\n",
        "\n",
        "# Function to classify and save data\n",
        "def classify_and_save_test_data(test_dir, fruits_dir, vegetables_dir):\n",
        "    for item in os.listdir(test_dir):\n",
        "        item_path = os.path.join(test_dir, item)\n",
        "\n",
        "        # Skip the structured_test directory and hidden files/folders\n",
        "        if os.path.abspath(item_path) == os.path.abspath(structured_test_dir) or item.startswith(\".\"):\n",
        "            continue\n",
        "\n",
        "        # Normalize the folder/file name\n",
        "        normalized_name = item.lower().replace(\" \", \"\")\n",
        "\n",
        "        # If it's a directory, classify based on folder name\n",
        "        if os.path.isdir(item_path):\n",
        "            if normalized_name in fruits:\n",
        "                dest = os.path.join(fruits_dir, item)\n",
        "                shutil.copytree(item_path, dest, dirs_exist_ok=True)\n",
        "                print(f\"Copied folder '{item}' to Fruits.\")\n",
        "            elif normalized_name in vegetables:\n",
        "                dest = os.path.join(vegetables_dir, item)\n",
        "                shutil.copytree(item_path, dest, dirs_exist_ok=True)\n",
        "                print(f\"Copied folder '{item}' to Vegetables.\")\n",
        "            else:\n",
        "                print(f\"Skipping unclassified folder: {item}\")\n",
        "\n",
        "        # If it's a file, classify based on file name\n",
        "        elif os.path.isfile(item_path):\n",
        "            if any(fruit in normalized_name for fruit in fruits):\n",
        "                shutil.copy(item_path, fruits_dir)\n",
        "                print(f\"Copied file '{item}' to Fruits.\")\n",
        "            elif any(vegetable in normalized_name for vegetable in vegetables):\n",
        "                shutil.copy(item_path, vegetables_dir)\n",
        "                print(f\"Copied file '{item}' to Vegetables.\")\n",
        "            else:\n",
        "                print(f\"Skipping unclassified file: {item}\")\n",
        "\n",
        "\n"
      ],
      "metadata": {
        "id": "j48MLQaYzhBj",
        "outputId": "01215939-374b-4566-f4e5-0a5614f4e294",
        "colab": {
          "base_uri": "https://localhost:8080/"
        }
      },
      "execution_count": 32,
      "outputs": [
        {
          "output_type": "stream",
          "name": "stdout",
          "text": [
            "Copied folder 'peas' to Vegetables.\n",
            "Copied folder 'apple' to Fruits.\n",
            "Copied folder 'watermelon' to Fruits.\n",
            "Copied folder 'jalepeno' to Vegetables.\n",
            "Copied folder 'onion' to Vegetables.\n",
            "Copied folder 'pomegranate' to Fruits.\n",
            "Copied folder 'paprika' to Vegetables.\n",
            "Copied folder 'soy beans' to Vegetables.\n",
            "Copied folder 'chilli pepper' to Vegetables.\n",
            "Copied folder 'capsicum' to Vegetables.\n",
            "Copied folder 'tomato' to Vegetables.\n",
            "Copied folder 'orange' to Fruits.\n",
            "Copied folder 'mango' to Fruits.\n",
            "Copied folder 'cucumber' to Vegetables.\n",
            "Copied folder 'grapes' to Fruits.\n",
            "Copied folder 'lettuce' to Vegetables.\n",
            "Copied folder 'sweetpotato' to Vegetables.\n",
            "Copied folder 'pineapple' to Fruits.\n",
            "Copied folder 'garlic' to Vegetables.\n",
            "Copied folder 'carrot' to Vegetables.\n",
            "Copied folder 'pear' to Fruits.\n",
            "Copied folder 'ginger' to Vegetables.\n",
            "Copied folder 'cabbage' to Vegetables.\n",
            "Copied folder 'beetroot' to Vegetables.\n",
            "Copied folder 'turnip' to Vegetables.\n",
            "Copied folder 'lemon' to Vegetables.\n",
            "Copied folder 'corn' to Vegetables.\n",
            "Copied folder 'raddish' to Vegetables.\n",
            "Copied folder 'potato' to Vegetables.\n",
            "Copied folder 'spinach' to Vegetables.\n",
            "Copied folder 'bell pepper' to Vegetables.\n",
            "Copied folder 'cauliflower' to Vegetables.\n",
            "Copied folder 'banana' to Fruits.\n",
            "Copied folder 'eggplant' to Vegetables.\n",
            "Copied folder 'kiwi' to Fruits.\n",
            "Copied folder 'sweetcorn' to Vegetables.\n",
            "Test dataset successfully classified and saved in 'structured_test' folder.\n"
          ]
        }
      ]
    },
    {
      "cell_type": "markdown",
      "source": [
        "#CLASSIFYING TRAIN DATASET"
      ],
      "metadata": {
        "id": "Ekxk80yRRsKK"
      }
    },
    {
      "cell_type": "code",
      "source": [
        "# Paths\n",
        "test_dir = \"/content/train\"\n",
        "structured_test_dir = \"/content/structured_train\"\n",
        "\n",
        "# Define fruits and vegetables categories (normalized to lowercase and stripped spaces)\n",
        "fruits = {fruit.lower().replace(\" \", \"\") for fruit in [\n",
        "    \"Banana\", \"Apple\", \"Pear\", \"Grapes\", \"Orange\", \"Kiwi\",\n",
        "    \"Watermelon\", \"Pomegranate\", \"Pineapple\", \"Mango\"\n",
        "]}\n",
        "vegetables = {vegetable.lower().replace(\" \", \"\") for vegetable in [\n",
        "    \"Cucumber\", \"Carrot\", \"Capsicum\", \"Onion\", \"Potato\", \"Lemon\",\n",
        "    \"Tomato\", \"Raddish\", \"Beetroot\", \"Cabbage\", \"Lettuce\", \"Spinach\",\n",
        "    \"Soy beans\", \"Cauliflower\", \"Bell Pepper\", \"Chilli pepper\",\n",
        "    \"Turnip\", \"Corn\", \"Sweetcorn\", \"Sweet Potato\", \"Paprika\",\n",
        "    \"Jalepeno\", \"Ginger\", \"Garlic\", \"Peas\", \"Eggplant\"\n",
        "]}\n",
        "\n",
        "# Create destination folders\n",
        "fruits_dir = os.path.join(structured_test_dir, \"Fruits\")\n",
        "vegetables_dir = os.path.join(structured_test_dir, \"Vegetables\")\n",
        "os.makedirs(fruits_dir, exist_ok=True)\n",
        "os.makedirs(vegetables_dir, exist_ok=True)\n",
        "\n",
        "# Function to classify and save data\n",
        "def classify_and_save_test_data(test_dir, fruits_dir, vegetables_dir):\n",
        "    for item in os.listdir(test_dir):\n",
        "        item_path = os.path.join(test_dir, item)\n",
        "\n",
        "        # Skip the structured_test directory and hidden files/folders\n",
        "        if os.path.abspath(item_path) == os.path.abspath(structured_test_dir) or item.startswith(\".\"):\n",
        "            continue\n",
        "\n",
        "        # Normalize the folder/file name\n",
        "        normalized_name = item.lower().replace(\" \", \"\")\n",
        "\n",
        "        # If it's a directory, classify based on folder name\n",
        "        if os.path.isdir(item_path):\n",
        "            if normalized_name in fruits:\n",
        "                dest = os.path.join(fruits_dir, item)\n",
        "                shutil.copytree(item_path, dest, dirs_exist_ok=True)\n",
        "                print(f\"Copied folder '{item}' to Fruits.\")\n",
        "            elif normalized_name in vegetables:\n",
        "                dest = os.path.join(vegetables_dir, item)\n",
        "                shutil.copytree(item_path, dest, dirs_exist_ok=True)\n",
        "                print(f\"Copied folder '{item}' to Vegetables.\")\n",
        "            else:\n",
        "                print(f\"Skipping unclassified folder: {item}\")\n",
        "\n",
        "        # If it's a file, classify based on file name\n",
        "        elif os.path.isfile(item_path):\n",
        "            if any(fruit in normalized_name for fruit in fruits):\n",
        "                shutil.copy(item_path, fruits_dir)\n",
        "                print(f\"Copied file '{item}' to Fruits.\")\n",
        "            elif any(vegetable in normalized_name for vegetable in vegetables):\n",
        "                shutil.copy(item_path, vegetables_dir)\n",
        "                print(f\"Copied file '{item}' to Vegetables.\")\n",
        "            else:\n",
        "                print(f\"Skipping unclassified file: {item}\")\n",
        "\n"
      ],
      "metadata": {
        "id": "2xKCaEpQ1OCg"
      },
      "execution_count": 68,
      "outputs": []
    },
    {
      "cell_type": "markdown",
      "source": [
        "#CLASSIFYING THE VALIDATION DATA"
      ],
      "metadata": {
        "id": "baCuM5VcSu4L"
      }
    },
    {
      "cell_type": "code",
      "source": [
        "# Paths\n",
        "test_dir = \"/content/validation\"\n",
        "structured_test_dir = \"/content/structured_validation\"\n",
        "\n",
        "# Define fruits and vegetables categories (normalized to lowercase and stripped spaces)\n",
        "fruits = {fruit.lower().replace(\" \", \"\") for fruit in [\n",
        "    \"Banana\", \"Apple\", \"Pear\", \"Grapes\", \"Orange\", \"Kiwi\",\n",
        "    \"Watermelon\", \"Pomegranate\", \"Pineapple\", \"Mango\"\n",
        "]}\n",
        "vegetables = {vegetable.lower().replace(\" \", \"\") for vegetable in [\n",
        "    \"Cucumber\", \"Carrot\", \"Capsicum\", \"Onion\", \"Potato\", \"Lemon\",\n",
        "    \"Tomato\", \"Raddish\", \"Beetroot\", \"Cabbage\", \"Lettuce\", \"Spinach\",\n",
        "    \"Soy beans\", \"Cauliflower\", \"Bell Pepper\", \"Chilli pepper\",\n",
        "    \"Turnip\", \"Corn\", \"Sweetcorn\", \"Sweet Potato\", \"Paprika\",\n",
        "    \"Jalepeno\", \"Ginger\", \"Garlic\", \"Peas\", \"Eggplant\"\n",
        "]}\n",
        "\n",
        "# Create destination folders\n",
        "fruits_dir = os.path.join(structured_test_dir, \"Fruits\")\n",
        "vegetables_dir = os.path.join(structured_test_dir, \"Vegetables\")\n",
        "os.makedirs(fruits_dir, exist_ok=True)\n",
        "os.makedirs(vegetables_dir, exist_ok=True)\n",
        "\n",
        "# Function to classify and save data\n",
        "def classify_and_save_test_data(test_dir, fruits_dir, vegetables_dir):\n",
        "    for item in os.listdir(test_dir):\n",
        "        item_path = os.path.join(test_dir, item)\n",
        "\n",
        "        # Skip the structured_test directory and hidden files/folders\n",
        "        if os.path.abspath(item_path) == os.path.abspath(structured_test_dir) or item.startswith(\".\"):\n",
        "            continue\n",
        "\n",
        "        # Normalize the folder/file name\n",
        "        normalized_name = item.lower().replace(\" \", \"\")\n",
        "\n",
        "        # If it's a directory, classify based on folder name\n",
        "        if os.path.isdir(item_path):\n",
        "            if normalized_name in fruits:\n",
        "                dest = os.path.join(fruits_dir, item)\n",
        "                shutil.copytree(item_path, dest, dirs_exist_ok=True)\n",
        "                print(f\"Copied folder '{item}' to Fruits.\")\n",
        "            elif normalized_name in vegetables:\n",
        "                dest = os.path.join(vegetables_dir, item)\n",
        "                shutil.copytree(item_path, dest, dirs_exist_ok=True)\n",
        "                print(f\"Copied folder '{item}' to Vegetables.\")\n",
        "            else:\n",
        "                print(f\"Skipping unclassified folder: {item}\")\n",
        "\n",
        "        # If it's a file, classify based on file name\n",
        "        elif os.path.isfile(item_path):\n",
        "            if any(fruit in normalized_name for fruit in fruits):\n",
        "                shutil.copy(item_path, fruits_dir)\n",
        "                print(f\"Copied file '{item}' to Fruits.\")\n",
        "            elif any(vegetable in normalized_name for vegetable in vegetables):\n",
        "                shutil.copy(item_path, vegetables_dir)\n",
        "                print(f\"Copied file '{item}' to Vegetables.\")\n",
        "            else:\n",
        "                print(f\"Skipping unclassified file: {item}\")\n",
        "\n"
      ],
      "metadata": {
        "id": "slTvj-Zb2MBN"
      },
      "execution_count": 67,
      "outputs": []
    },
    {
      "cell_type": "code",
      "source": [
        "#verifying the shape of train and test data"
      ],
      "metadata": {
        "id": "Ion4nr_C1i7u"
      },
      "execution_count": 35,
      "outputs": []
    },
    {
      "cell_type": "markdown",
      "source": [
        "#SPLITTING THE TRAIN DATASET"
      ],
      "metadata": {
        "id": "jPb4raW7ReYN"
      }
    },
    {
      "cell_type": "code",
      "source": [
        "import numpy as np\n",
        "import tensorflow as tf\n",
        "from tensorflow.keras.preprocessing.image import ImageDataGenerator\n",
        "\n",
        "# Paths to the structured test data (fruits and vegetables)\n",
        "structured_test_dir = \"/content/structured_train\"\n",
        "\n",
        "# Initialize ImageDataGenerator for rescaling and augmentation (optional)\n",
        "datagen = ImageDataGenerator(rescale=1./255)  # Normalizing pixel values to [0, 1]\n",
        "\n",
        "# Load images from directories (assuming that folders \"Fruits\" and \"Vegetables\" already exist)\n",
        "train_data = datagen.flow_from_directory(\n",
        "    directory=structured_test_dir,  # Path to the directory where your classified test data is\n",
        "    target_size=(224, 224),  # Resize the images to a fixed size (224x224 for CNN)\n",
        "    batch_size=32,  # Number of images to process per batch\n",
        "    class_mode='binary',  # For two classes (Fruits vs Vegetables), use 'binary'\n",
        "    shuffle=True,\n",
        "    color_mode='rgb',\n",
        "    # Shuffle data\n",
        "    seed=42\n",
        ")\n",
        "\n",
        "# Initialize empty lists to store all images and labels\n",
        "all_images = []\n",
        "all_labels = []\n",
        "\n",
        "# Iterate over all batches and collect the images and labels\n",
        "for images, labels in train_data:\n",
        "    all_images.append(images)\n",
        "    all_labels.append(labels)\n",
        "\n",
        "    # If the number of samples in the current batch is less than batch_size, we break\n",
        "    if len(all_images) * train_data.batch_size >= train_data.samples:\n",
        "        break\n",
        "\n",
        "# Convert lists to numpy arrays\n",
        "x_train = np.concatenate(all_images, axis=0)\n",
        "y_train = np.concatenate(all_labels, axis=0)\n",
        "\n",
        "print(\"x_train shape:\", x_train.shape)\n",
        "print(\"y_train shape:\", y_train.shape)\n",
        "\n"
      ],
      "metadata": {
        "colab": {
          "base_uri": "https://localhost:8080/"
        },
        "id": "zYLRtbTB4Hw-",
        "outputId": "831933f9-1c5f-42b9-91d1-8562ccd1cca7"
      },
      "execution_count": 56,
      "outputs": [
        {
          "output_type": "stream",
          "name": "stdout",
          "text": [
            "Found 3115 images belonging to 2 classes.\n"
          ]
        },
        {
          "output_type": "stream",
          "name": "stderr",
          "text": [
            "/usr/local/lib/python3.10/dist-packages/PIL/Image.py:1054: UserWarning: Palette images with Transparency expressed in bytes should be converted to RGBA images\n",
            "  warnings.warn(\n"
          ]
        },
        {
          "output_type": "stream",
          "name": "stdout",
          "text": [
            "x_train shape: (3115, 224, 224, 3)\n",
            "y_train shape: (3115,)\n"
          ]
        }
      ]
    },
    {
      "cell_type": "markdown",
      "source": [
        "#SPLITTING THE TEST DATASET"
      ],
      "metadata": {
        "id": "30uXZt5VRYwJ"
      }
    },
    {
      "cell_type": "code",
      "source": [
        "structured_test_dir = \"/content/structured_test\"\n",
        "\n",
        "# Initialize ImageDataGenerator for rescaling and augmentation (optional)\n",
        "datagen = ImageDataGenerator(rescale=1./255)  # Normalizing pixel values to [0, 1]\n",
        "\n",
        "# Load images from directories (assuming that folders \"Fruits\" and \"Vegetables\" already exist)\n",
        "train_data = datagen.flow_from_directory(\n",
        "    directory=structured_test_dir,  # Path to the directory where your classified test data is\n",
        "    target_size=(224, 224),  # Resize the images to a fixed size (224x224 for CNN)\n",
        "    batch_size=32,  # Number of images to process per batch\n",
        "    class_mode='binary',  # For two classes (Fruits vs Vegetables), use 'binary'\n",
        "    shuffle=True,\n",
        "    color_mode='rgb',\n",
        "    # Shuffle data\n",
        "    seed=42\n",
        ")\n",
        "\n",
        "# Initialize empty lists to store all images and labels\n",
        "all_images = []\n",
        "all_labels = []\n",
        "\n",
        "# Iterate over all batches and collect the images and labels\n",
        "for images, labels in train_data:\n",
        "    all_images.append(images)\n",
        "    all_labels.append(labels)\n",
        "\n",
        "    # If the number of samples in the current batch is less than batch_size, we break\n",
        "    if len(all_images) * train_data.batch_size >= train_data.samples:\n",
        "        break\n",
        "\n",
        "# Convert lists to numpy arrays\n",
        "x_test = np.concatenate(all_images, axis=0)\n",
        "y_test = np.concatenate(all_labels, axis=0)\n",
        "\n",
        "print(\"x_test shape:\", x_test.shape)\n",
        "print(\"y_test shape:\", y_test.shape)"
      ],
      "metadata": {
        "colab": {
          "base_uri": "https://localhost:8080/"
        },
        "id": "f7UnpQZT6Sol",
        "outputId": "df2953cc-e120-43ac-89cf-94b6140470a9"
      },
      "execution_count": 57,
      "outputs": [
        {
          "output_type": "stream",
          "name": "stdout",
          "text": [
            "Found 359 images belonging to 2 classes.\n",
            "x_test shape: (359, 224, 224, 3)\n",
            "y_test shape: (359,)\n"
          ]
        }
      ]
    },
    {
      "cell_type": "markdown",
      "source": [
        "#SPLITTING THE VALIDATION DATASET"
      ],
      "metadata": {
        "id": "RLtmfNDZRRs9"
      }
    },
    {
      "cell_type": "code",
      "source": [
        "structured_test_dir = \"/content/structured_validation\"\n",
        "\n",
        "# Initialize ImageDataGenerator for rescaling and augmentation (optional)\n",
        "datagen = ImageDataGenerator(rescale=1./255)  # Normalizing pixel values to [0, 1]\n",
        "\n",
        "# Load images from directories (assuming that folders \"Fruits\" and \"Vegetables\" already exist)\n",
        "train_data = datagen.flow_from_directory(\n",
        "    directory=structured_test_dir,  # Path to the directory where your classified test data is\n",
        "    target_size=(224, 224),  # Resize the images to a fixed size (224x224 for CNN)\n",
        "    batch_size=32,  # Number of images to process per batch\n",
        "    class_mode='binary',  # For two classes (Fruits vs Vegetables), use 'binary'\n",
        "    shuffle=True,\n",
        "    color_mode='rgb',\n",
        "    # Shuffle data\n",
        "    seed=42\n",
        ")\n",
        "\n",
        "# Initialize empty lists to store all images and labels\n",
        "all_images = []\n",
        "all_labels = []\n",
        "\n",
        "# Iterate over all batches and collect the images and labels\n",
        "for images, labels in train_data:\n",
        "    all_images.append(images)\n",
        "    all_labels.append(labels)\n",
        "\n",
        "    # If the number of samples in the current batch is less than batch_size, we break\n",
        "    if len(all_images) * train_data.batch_size >= train_data.samples:\n",
        "        break\n",
        "\n",
        "# Convert lists to numpy arrays\n",
        "x_validation = np.concatenate(all_images, axis=0)\n",
        "y_validation = np.concatenate(all_labels, axis=0)\n",
        "\n",
        "print(\"x_validation shape:\", x_validation.shape)\n",
        "print(\"y_validation shape:\", y_validation.shape)"
      ],
      "metadata": {
        "colab": {
          "base_uri": "https://localhost:8080/"
        },
        "id": "oIOS-5Xa6tly",
        "outputId": "e3caf391-d8fd-427f-ceb1-c1030538f10a"
      },
      "execution_count": 58,
      "outputs": [
        {
          "output_type": "stream",
          "name": "stdout",
          "text": [
            "Found 351 images belonging to 2 classes.\n",
            "x_validation shape: (351, 224, 224, 3)\n",
            "y_validation shape: (351,)\n"
          ]
        }
      ]
    },
    {
      "cell_type": "markdown",
      "source": [
        "#BUILDING THE CNN MODEL"
      ],
      "metadata": {
        "id": "VQwjCM4KRHCv"
      }
    },
    {
      "cell_type": "code",
      "source": [
        "from tensorflow.keras import layers, models\n",
        "\n",
        "# Define the CNN model\n",
        "model = models.Sequential([\n",
        "    # First Convolutional Layer\n",
        "    layers.Conv2D(32, (3, 3), activation='relu', input_shape=(224, 224, 3)),\n",
        "    layers.MaxPooling2D((2, 2)),\n",
        "\n",
        "    # Second Convolutional Layer\n",
        "    layers.Conv2D(64, (3, 3), activation='relu'),\n",
        "    layers.MaxPooling2D((2, 2)),\n",
        "\n",
        "    # Third Convolutional Layer\n",
        "    layers.Conv2D(128, (3, 3), activation='relu'),\n",
        "    layers.MaxPooling2D((2, 2)),\n",
        "\n",
        "    # Flatten the output from convolution layers\n",
        "    layers.Flatten(),\n",
        "\n",
        "    # Fully connected layers\n",
        "    layers.Dense(128, activation='relu'),\n",
        "    layers.Dropout(0.5),  # Dropout to prevent overfitting\n",
        "\n",
        "\n",
        "    layers.Dense(1, activation='sigmoid')  # Sigmoid for binary classification\n",
        "])\n",
        "\n",
        "# Compile the model\n",
        "model.compile(optimizer='adam',\n",
        "              loss='binary_crossentropy',  # Binary Crossentropy for binary classification\n",
        "              metrics=['accuracy'])\n",
        "\n",
        "# Display model architecture\n",
        "model.summary()"
      ],
      "metadata": {
        "colab": {
          "base_uri": "https://localhost:8080/",
          "height": 523
        },
        "id": "EbR6baXBC8pw",
        "outputId": "08a9c222-4332-4ab8-d324-6036468851bd"
      },
      "execution_count": 60,
      "outputs": [
        {
          "output_type": "stream",
          "name": "stderr",
          "text": [
            "/usr/local/lib/python3.10/dist-packages/keras/src/layers/convolutional/base_conv.py:107: UserWarning: Do not pass an `input_shape`/`input_dim` argument to a layer. When using Sequential models, prefer using an `Input(shape)` object as the first layer in the model instead.\n",
            "  super().__init__(activity_regularizer=activity_regularizer, **kwargs)\n"
          ]
        },
        {
          "output_type": "display_data",
          "data": {
            "text/plain": [
              "\u001b[1mModel: \"sequential\"\u001b[0m\n"
            ],
            "text/html": [
              "<pre style=\"white-space:pre;overflow-x:auto;line-height:normal;font-family:Menlo,'DejaVu Sans Mono',consolas,'Courier New',monospace\"><span style=\"font-weight: bold\">Model: \"sequential\"</span>\n",
              "</pre>\n"
            ]
          },
          "metadata": {}
        },
        {
          "output_type": "display_data",
          "data": {
            "text/plain": [
              "┏━━━━━━━━━━━━━━━━━━━━━━━━━━━━━━━━━━━━━━┳━━━━━━━━━━━━━━━━━━━━━━━━━━━━━┳━━━━━━━━━━━━━━━━━┓\n",
              "┃\u001b[1m \u001b[0m\u001b[1mLayer (type)                        \u001b[0m\u001b[1m \u001b[0m┃\u001b[1m \u001b[0m\u001b[1mOutput Shape               \u001b[0m\u001b[1m \u001b[0m┃\u001b[1m \u001b[0m\u001b[1m        Param #\u001b[0m\u001b[1m \u001b[0m┃\n",
              "┡━━━━━━━━━━━━━━━━━━━━━━━━━━━━━━━━━━━━━━╇━━━━━━━━━━━━━━━━━━━━━━━━━━━━━╇━━━━━━━━━━━━━━━━━┩\n",
              "│ conv2d (\u001b[38;5;33mConv2D\u001b[0m)                      │ (\u001b[38;5;45mNone\u001b[0m, \u001b[38;5;34m222\u001b[0m, \u001b[38;5;34m222\u001b[0m, \u001b[38;5;34m32\u001b[0m)        │             \u001b[38;5;34m896\u001b[0m │\n",
              "├──────────────────────────────────────┼─────────────────────────────┼─────────────────┤\n",
              "│ max_pooling2d (\u001b[38;5;33mMaxPooling2D\u001b[0m)         │ (\u001b[38;5;45mNone\u001b[0m, \u001b[38;5;34m111\u001b[0m, \u001b[38;5;34m111\u001b[0m, \u001b[38;5;34m32\u001b[0m)        │               \u001b[38;5;34m0\u001b[0m │\n",
              "├──────────────────────────────────────┼─────────────────────────────┼─────────────────┤\n",
              "│ conv2d_1 (\u001b[38;5;33mConv2D\u001b[0m)                    │ (\u001b[38;5;45mNone\u001b[0m, \u001b[38;5;34m109\u001b[0m, \u001b[38;5;34m109\u001b[0m, \u001b[38;5;34m64\u001b[0m)        │          \u001b[38;5;34m18,496\u001b[0m │\n",
              "├──────────────────────────────────────┼─────────────────────────────┼─────────────────┤\n",
              "│ max_pooling2d_1 (\u001b[38;5;33mMaxPooling2D\u001b[0m)       │ (\u001b[38;5;45mNone\u001b[0m, \u001b[38;5;34m54\u001b[0m, \u001b[38;5;34m54\u001b[0m, \u001b[38;5;34m64\u001b[0m)          │               \u001b[38;5;34m0\u001b[0m │\n",
              "├──────────────────────────────────────┼─────────────────────────────┼─────────────────┤\n",
              "│ conv2d_2 (\u001b[38;5;33mConv2D\u001b[0m)                    │ (\u001b[38;5;45mNone\u001b[0m, \u001b[38;5;34m52\u001b[0m, \u001b[38;5;34m52\u001b[0m, \u001b[38;5;34m128\u001b[0m)         │          \u001b[38;5;34m73,856\u001b[0m │\n",
              "├──────────────────────────────────────┼─────────────────────────────┼─────────────────┤\n",
              "│ max_pooling2d_2 (\u001b[38;5;33mMaxPooling2D\u001b[0m)       │ (\u001b[38;5;45mNone\u001b[0m, \u001b[38;5;34m26\u001b[0m, \u001b[38;5;34m26\u001b[0m, \u001b[38;5;34m128\u001b[0m)         │               \u001b[38;5;34m0\u001b[0m │\n",
              "├──────────────────────────────────────┼─────────────────────────────┼─────────────────┤\n",
              "│ flatten (\u001b[38;5;33mFlatten\u001b[0m)                    │ (\u001b[38;5;45mNone\u001b[0m, \u001b[38;5;34m86528\u001b[0m)               │               \u001b[38;5;34m0\u001b[0m │\n",
              "├──────────────────────────────────────┼─────────────────────────────┼─────────────────┤\n",
              "│ dense (\u001b[38;5;33mDense\u001b[0m)                        │ (\u001b[38;5;45mNone\u001b[0m, \u001b[38;5;34m128\u001b[0m)                 │      \u001b[38;5;34m11,075,712\u001b[0m │\n",
              "├──────────────────────────────────────┼─────────────────────────────┼─────────────────┤\n",
              "│ dropout (\u001b[38;5;33mDropout\u001b[0m)                    │ (\u001b[38;5;45mNone\u001b[0m, \u001b[38;5;34m128\u001b[0m)                 │               \u001b[38;5;34m0\u001b[0m │\n",
              "├──────────────────────────────────────┼─────────────────────────────┼─────────────────┤\n",
              "│ dense_1 (\u001b[38;5;33mDense\u001b[0m)                      │ (\u001b[38;5;45mNone\u001b[0m, \u001b[38;5;34m1\u001b[0m)                   │             \u001b[38;5;34m129\u001b[0m │\n",
              "└──────────────────────────────────────┴─────────────────────────────┴─────────────────┘\n"
            ],
            "text/html": [
              "<pre style=\"white-space:pre;overflow-x:auto;line-height:normal;font-family:Menlo,'DejaVu Sans Mono',consolas,'Courier New',monospace\">┏━━━━━━━━━━━━━━━━━━━━━━━━━━━━━━━━━━━━━━┳━━━━━━━━━━━━━━━━━━━━━━━━━━━━━┳━━━━━━━━━━━━━━━━━┓\n",
              "┃<span style=\"font-weight: bold\"> Layer (type)                         </span>┃<span style=\"font-weight: bold\"> Output Shape                </span>┃<span style=\"font-weight: bold\">         Param # </span>┃\n",
              "┡━━━━━━━━━━━━━━━━━━━━━━━━━━━━━━━━━━━━━━╇━━━━━━━━━━━━━━━━━━━━━━━━━━━━━╇━━━━━━━━━━━━━━━━━┩\n",
              "│ conv2d (<span style=\"color: #0087ff; text-decoration-color: #0087ff\">Conv2D</span>)                      │ (<span style=\"color: #00d7ff; text-decoration-color: #00d7ff\">None</span>, <span style=\"color: #00af00; text-decoration-color: #00af00\">222</span>, <span style=\"color: #00af00; text-decoration-color: #00af00\">222</span>, <span style=\"color: #00af00; text-decoration-color: #00af00\">32</span>)        │             <span style=\"color: #00af00; text-decoration-color: #00af00\">896</span> │\n",
              "├──────────────────────────────────────┼─────────────────────────────┼─────────────────┤\n",
              "│ max_pooling2d (<span style=\"color: #0087ff; text-decoration-color: #0087ff\">MaxPooling2D</span>)         │ (<span style=\"color: #00d7ff; text-decoration-color: #00d7ff\">None</span>, <span style=\"color: #00af00; text-decoration-color: #00af00\">111</span>, <span style=\"color: #00af00; text-decoration-color: #00af00\">111</span>, <span style=\"color: #00af00; text-decoration-color: #00af00\">32</span>)        │               <span style=\"color: #00af00; text-decoration-color: #00af00\">0</span> │\n",
              "├──────────────────────────────────────┼─────────────────────────────┼─────────────────┤\n",
              "│ conv2d_1 (<span style=\"color: #0087ff; text-decoration-color: #0087ff\">Conv2D</span>)                    │ (<span style=\"color: #00d7ff; text-decoration-color: #00d7ff\">None</span>, <span style=\"color: #00af00; text-decoration-color: #00af00\">109</span>, <span style=\"color: #00af00; text-decoration-color: #00af00\">109</span>, <span style=\"color: #00af00; text-decoration-color: #00af00\">64</span>)        │          <span style=\"color: #00af00; text-decoration-color: #00af00\">18,496</span> │\n",
              "├──────────────────────────────────────┼─────────────────────────────┼─────────────────┤\n",
              "│ max_pooling2d_1 (<span style=\"color: #0087ff; text-decoration-color: #0087ff\">MaxPooling2D</span>)       │ (<span style=\"color: #00d7ff; text-decoration-color: #00d7ff\">None</span>, <span style=\"color: #00af00; text-decoration-color: #00af00\">54</span>, <span style=\"color: #00af00; text-decoration-color: #00af00\">54</span>, <span style=\"color: #00af00; text-decoration-color: #00af00\">64</span>)          │               <span style=\"color: #00af00; text-decoration-color: #00af00\">0</span> │\n",
              "├──────────────────────────────────────┼─────────────────────────────┼─────────────────┤\n",
              "│ conv2d_2 (<span style=\"color: #0087ff; text-decoration-color: #0087ff\">Conv2D</span>)                    │ (<span style=\"color: #00d7ff; text-decoration-color: #00d7ff\">None</span>, <span style=\"color: #00af00; text-decoration-color: #00af00\">52</span>, <span style=\"color: #00af00; text-decoration-color: #00af00\">52</span>, <span style=\"color: #00af00; text-decoration-color: #00af00\">128</span>)         │          <span style=\"color: #00af00; text-decoration-color: #00af00\">73,856</span> │\n",
              "├──────────────────────────────────────┼─────────────────────────────┼─────────────────┤\n",
              "│ max_pooling2d_2 (<span style=\"color: #0087ff; text-decoration-color: #0087ff\">MaxPooling2D</span>)       │ (<span style=\"color: #00d7ff; text-decoration-color: #00d7ff\">None</span>, <span style=\"color: #00af00; text-decoration-color: #00af00\">26</span>, <span style=\"color: #00af00; text-decoration-color: #00af00\">26</span>, <span style=\"color: #00af00; text-decoration-color: #00af00\">128</span>)         │               <span style=\"color: #00af00; text-decoration-color: #00af00\">0</span> │\n",
              "├──────────────────────────────────────┼─────────────────────────────┼─────────────────┤\n",
              "│ flatten (<span style=\"color: #0087ff; text-decoration-color: #0087ff\">Flatten</span>)                    │ (<span style=\"color: #00d7ff; text-decoration-color: #00d7ff\">None</span>, <span style=\"color: #00af00; text-decoration-color: #00af00\">86528</span>)               │               <span style=\"color: #00af00; text-decoration-color: #00af00\">0</span> │\n",
              "├──────────────────────────────────────┼─────────────────────────────┼─────────────────┤\n",
              "│ dense (<span style=\"color: #0087ff; text-decoration-color: #0087ff\">Dense</span>)                        │ (<span style=\"color: #00d7ff; text-decoration-color: #00d7ff\">None</span>, <span style=\"color: #00af00; text-decoration-color: #00af00\">128</span>)                 │      <span style=\"color: #00af00; text-decoration-color: #00af00\">11,075,712</span> │\n",
              "├──────────────────────────────────────┼─────────────────────────────┼─────────────────┤\n",
              "│ dropout (<span style=\"color: #0087ff; text-decoration-color: #0087ff\">Dropout</span>)                    │ (<span style=\"color: #00d7ff; text-decoration-color: #00d7ff\">None</span>, <span style=\"color: #00af00; text-decoration-color: #00af00\">128</span>)                 │               <span style=\"color: #00af00; text-decoration-color: #00af00\">0</span> │\n",
              "├──────────────────────────────────────┼─────────────────────────────┼─────────────────┤\n",
              "│ dense_1 (<span style=\"color: #0087ff; text-decoration-color: #0087ff\">Dense</span>)                      │ (<span style=\"color: #00d7ff; text-decoration-color: #00d7ff\">None</span>, <span style=\"color: #00af00; text-decoration-color: #00af00\">1</span>)                   │             <span style=\"color: #00af00; text-decoration-color: #00af00\">129</span> │\n",
              "└──────────────────────────────────────┴─────────────────────────────┴─────────────────┘\n",
              "</pre>\n"
            ]
          },
          "metadata": {}
        },
        {
          "output_type": "display_data",
          "data": {
            "text/plain": [
              "\u001b[1m Total params: \u001b[0m\u001b[38;5;34m11,169,089\u001b[0m (42.61 MB)\n"
            ],
            "text/html": [
              "<pre style=\"white-space:pre;overflow-x:auto;line-height:normal;font-family:Menlo,'DejaVu Sans Mono',consolas,'Courier New',monospace\"><span style=\"font-weight: bold\"> Total params: </span><span style=\"color: #00af00; text-decoration-color: #00af00\">11,169,089</span> (42.61 MB)\n",
              "</pre>\n"
            ]
          },
          "metadata": {}
        },
        {
          "output_type": "display_data",
          "data": {
            "text/plain": [
              "\u001b[1m Trainable params: \u001b[0m\u001b[38;5;34m11,169,089\u001b[0m (42.61 MB)\n"
            ],
            "text/html": [
              "<pre style=\"white-space:pre;overflow-x:auto;line-height:normal;font-family:Menlo,'DejaVu Sans Mono',consolas,'Courier New',monospace\"><span style=\"font-weight: bold\"> Trainable params: </span><span style=\"color: #00af00; text-decoration-color: #00af00\">11,169,089</span> (42.61 MB)\n",
              "</pre>\n"
            ]
          },
          "metadata": {}
        },
        {
          "output_type": "display_data",
          "data": {
            "text/plain": [
              "\u001b[1m Non-trainable params: \u001b[0m\u001b[38;5;34m0\u001b[0m (0.00 B)\n"
            ],
            "text/html": [
              "<pre style=\"white-space:pre;overflow-x:auto;line-height:normal;font-family:Menlo,'DejaVu Sans Mono',consolas,'Courier New',monospace\"><span style=\"font-weight: bold\"> Non-trainable params: </span><span style=\"color: #00af00; text-decoration-color: #00af00\">0</span> (0.00 B)\n",
              "</pre>\n"
            ]
          },
          "metadata": {}
        }
      ]
    },
    {
      "cell_type": "markdown",
      "source": [
        "#TRAINING THE MODEL\n"
      ],
      "metadata": {
        "id": "imzQyw4mQ_tx"
      }
    },
    {
      "cell_type": "code",
      "source": [
        "history = model.fit(\n",
        "    x_train, y_train,\n",
        "    epochs=10,\n",
        "    batch_size=32,\n",
        "    validation_data=(x_validation,y_validation),\n",
        "    shuffle=True  # Shuffle the data\n",
        ")\n"
      ],
      "metadata": {
        "colab": {
          "base_uri": "https://localhost:8080/"
        },
        "id": "fupUjiKWEpAf",
        "outputId": "8b535a79-a378-4df8-8386-a44062f85557"
      },
      "execution_count": 64,
      "outputs": [
        {
          "output_type": "stream",
          "name": "stdout",
          "text": [
            "Epoch 1/10\n",
            "\u001b[1m98/98\u001b[0m \u001b[32m━━━━━━━━━━━━━━━━━━━━\u001b[0m\u001b[37m\u001b[0m \u001b[1m200s\u001b[0m 2s/step - accuracy: 0.7564 - loss: 0.5026 - val_accuracy: 0.8547 - val_loss: 0.4094\n",
            "Epoch 2/10\n",
            "\u001b[1m98/98\u001b[0m \u001b[32m━━━━━━━━━━━━━━━━━━━━\u001b[0m\u001b[37m\u001b[0m \u001b[1m204s\u001b[0m 2s/step - accuracy: 0.7626 - loss: 0.4658 - val_accuracy: 0.8319 - val_loss: 0.4296\n",
            "Epoch 3/10\n",
            "\u001b[1m98/98\u001b[0m \u001b[32m━━━━━━━━━━━━━━━━━━━━\u001b[0m\u001b[37m\u001b[0m \u001b[1m263s\u001b[0m 2s/step - accuracy: 0.7811 - loss: 0.4403 - val_accuracy: 0.8148 - val_loss: 0.3986\n",
            "Epoch 4/10\n",
            "\u001b[1m98/98\u001b[0m \u001b[32m━━━━━━━━━━━━━━━━━━━━\u001b[0m\u001b[37m\u001b[0m \u001b[1m202s\u001b[0m 2s/step - accuracy: 0.7805 - loss: 0.4331 - val_accuracy: 0.8519 - val_loss: 0.3198\n",
            "Epoch 5/10\n",
            "\u001b[1m98/98\u001b[0m \u001b[32m━━━━━━━━━━━━━━━━━━━━\u001b[0m\u001b[37m\u001b[0m \u001b[1m260s\u001b[0m 2s/step - accuracy: 0.8148 - loss: 0.3938 - val_accuracy: 0.8775 - val_loss: 0.2628\n",
            "Epoch 6/10\n",
            "\u001b[1m98/98\u001b[0m \u001b[32m━━━━━━━━━━━━━━━━━━━━\u001b[0m\u001b[37m\u001b[0m \u001b[1m207s\u001b[0m 2s/step - accuracy: 0.8359 - loss: 0.3421 - val_accuracy: 0.9231 - val_loss: 0.2285\n",
            "Epoch 7/10\n",
            "\u001b[1m98/98\u001b[0m \u001b[32m━━━━━━━━━━━━━━━━━━━━\u001b[0m\u001b[37m\u001b[0m \u001b[1m258s\u001b[0m 2s/step - accuracy: 0.8601 - loss: 0.3092 - val_accuracy: 0.9259 - val_loss: 0.2076\n",
            "Epoch 8/10\n",
            "\u001b[1m98/98\u001b[0m \u001b[32m━━━━━━━━━━━━━━━━━━━━\u001b[0m\u001b[37m\u001b[0m \u001b[1m264s\u001b[0m 2s/step - accuracy: 0.8794 - loss: 0.2709 - val_accuracy: 0.9573 - val_loss: 0.1514\n",
            "Epoch 9/10\n",
            "\u001b[1m98/98\u001b[0m \u001b[32m━━━━━━━━━━━━━━━━━━━━\u001b[0m\u001b[37m\u001b[0m \u001b[1m259s\u001b[0m 2s/step - accuracy: 0.9070 - loss: 0.2137 - val_accuracy: 0.9801 - val_loss: 0.1124\n",
            "Epoch 10/10\n",
            "\u001b[1m98/98\u001b[0m \u001b[32m━━━━━━━━━━━━━━━━━━━━\u001b[0m\u001b[37m\u001b[0m \u001b[1m203s\u001b[0m 2s/step - accuracy: 0.9203 - loss: 0.1797 - val_accuracy: 0.9687 - val_loss: 0.1121\n"
          ]
        }
      ]
    },
    {
      "cell_type": "code",
      "source": [
        "import matplotlib.pyplot as plt\n",
        "\n",
        "# Plot the training and validation accuracy\n",
        "plt.plot(history.history['accuracy'], label='Train Accuracy')\n",
        "plt.plot(history.history['val_accuracy'], label='Validation Accuracy')\n",
        "plt.xlabel('Epochs')\n",
        "plt.ylabel('Accuracy')\n",
        "plt.legend()\n",
        "plt.title('Model Accuracy')\n",
        "plt.show()\n",
        "\n",
        "# Plot the training and validation loss\n",
        "plt.plot(history.history['loss'], label='Train Loss')\n",
        "plt.plot(history.history['val_loss'], label='Validation Loss')\n",
        "plt.xlabel('Epochs')\n",
        "plt.ylabel('Loss')\n",
        "plt.legend()\n",
        "plt.title('Model Loss')\n",
        "plt.show()"
      ],
      "metadata": {
        "colab": {
          "base_uri": "https://localhost:8080/",
          "height": 927
        },
        "id": "L5U20_grQRUg",
        "outputId": "72aa2f81-9c67-4ab8-b767-ac7109c0d7e8"
      },
      "execution_count": 65,
      "outputs": [
        {
          "output_type": "display_data",
          "data": {
            "text/plain": [
              "<Figure size 640x480 with 1 Axes>"
            ],
            "image/png": "[encoded data removed]"
          },
          "metadata": {}
        },
        {
          "output_type": "display_data",
          "data": {
            "text/plain": [
              "<Figure size 640x480 with 1 Axes>"
            ],
            "image/png": "[encoded data removed]"
          },
          "metadata": {}
        }
      ]
    }
  ]
}